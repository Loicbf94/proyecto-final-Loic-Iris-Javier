{
    "cells": [
        {
            "cell_type": "markdown",
            "metadata": {},
            "source": [
                "# Explore here"
            ]
        },
        {
            "cell_type": "code",
            "execution_count": 1,
            "metadata": {},
            "outputs": [],
            "source": [
                "import pandas as pd\n",
                "import numpy as np\n",
                "import joblib\n",
                "import os\n",
                "from imdb import IMDb\n",
                "from tqdm import tqdm\n",
                "import requests\n",
                "from scipy import sparse"
            ]
        },
        {
            "cell_type": "code",
            "execution_count": 38,
            "metadata": {},
            "outputs": [
                {
                    "data": {
                        "text/html": [
                            "<div>\n",
                            "<style scoped>\n",
                            "    .dataframe tbody tr th:only-of-type {\n",
                            "        vertical-align: middle;\n",
                            "    }\n",
                            "\n",
                            "    .dataframe tbody tr th {\n",
                            "        vertical-align: top;\n",
                            "    }\n",
                            "\n",
                            "    .dataframe thead th {\n",
                            "        text-align: right;\n",
                            "    }\n",
                            "</style>\n",
                            "<table border=\"1\" class=\"dataframe\">\n",
                            "  <thead>\n",
                            "    <tr style=\"text-align: right;\">\n",
                            "      <th></th>\n",
                            "      <th>id</th>\n",
                            "      <th>title</th>\n",
                            "      <th>vote_average</th>\n",
                            "      <th>vote_count</th>\n",
                            "      <th>status</th>\n",
                            "      <th>release_date</th>\n",
                            "      <th>revenue</th>\n",
                            "      <th>runtime</th>\n",
                            "      <th>adult</th>\n",
                            "      <th>backdrop_path</th>\n",
                            "      <th>...</th>\n",
                            "      <th>original_title</th>\n",
                            "      <th>overview</th>\n",
                            "      <th>popularity</th>\n",
                            "      <th>poster_path</th>\n",
                            "      <th>tagline</th>\n",
                            "      <th>genres</th>\n",
                            "      <th>production_companies</th>\n",
                            "      <th>production_countries</th>\n",
                            "      <th>spoken_languages</th>\n",
                            "      <th>keywords</th>\n",
                            "    </tr>\n",
                            "  </thead>\n",
                            "  <tbody>\n",
                            "    <tr>\n",
                            "      <th>0</th>\n",
                            "      <td>27205</td>\n",
                            "      <td>Inception</td>\n",
                            "      <td>8.364</td>\n",
                            "      <td>34495</td>\n",
                            "      <td>Released</td>\n",
                            "      <td>2010-07-15</td>\n",
                            "      <td>825532764</td>\n",
                            "      <td>148</td>\n",
                            "      <td>False</td>\n",
                            "      <td>/8ZTVqvKDQ8emSGUEMjsS4yHAwrp.jpg</td>\n",
                            "      <td>...</td>\n",
                            "      <td>Inception</td>\n",
                            "      <td>Cobb, a skilled thief who commits corporate es...</td>\n",
                            "      <td>83.952</td>\n",
                            "      <td>/oYuLEt3zVCKq57qu2F8dT7NIa6f.jpg</td>\n",
                            "      <td>Your mind is the scene of the crime.</td>\n",
                            "      <td>Action, Science Fiction, Adventure</td>\n",
                            "      <td>Legendary Pictures, Syncopy, Warner Bros. Pict...</td>\n",
                            "      <td>United Kingdom, United States of America</td>\n",
                            "      <td>English, French, Japanese, Swahili</td>\n",
                            "      <td>rescue, mission, dream, airplane, paris, franc...</td>\n",
                            "    </tr>\n",
                            "    <tr>\n",
                            "      <th>1</th>\n",
                            "      <td>157336</td>\n",
                            "      <td>Interstellar</td>\n",
                            "      <td>8.417</td>\n",
                            "      <td>32571</td>\n",
                            "      <td>Released</td>\n",
                            "      <td>2014-11-05</td>\n",
                            "      <td>701729206</td>\n",
                            "      <td>169</td>\n",
                            "      <td>False</td>\n",
                            "      <td>/pbrkL804c8yAv3zBZR4QPEafpAR.jpg</td>\n",
                            "      <td>...</td>\n",
                            "      <td>Interstellar</td>\n",
                            "      <td>The adventures of a group of explorers who mak...</td>\n",
                            "      <td>140.241</td>\n",
                            "      <td>/gEU2QniE6E77NI6lCU6MxlNBvIx.jpg</td>\n",
                            "      <td>Mankind was born on Earth. It was never meant ...</td>\n",
                            "      <td>Adventure, Drama, Science Fiction</td>\n",
                            "      <td>Legendary Pictures, Syncopy, Lynda Obst Produc...</td>\n",
                            "      <td>United Kingdom, United States of America</td>\n",
                            "      <td>English</td>\n",
                            "      <td>rescue, future, spacecraft, race against time,...</td>\n",
                            "    </tr>\n",
                            "    <tr>\n",
                            "      <th>2</th>\n",
                            "      <td>155</td>\n",
                            "      <td>The Dark Knight</td>\n",
                            "      <td>8.512</td>\n",
                            "      <td>30619</td>\n",
                            "      <td>Released</td>\n",
                            "      <td>2008-07-16</td>\n",
                            "      <td>1004558444</td>\n",
                            "      <td>152</td>\n",
                            "      <td>False</td>\n",
                            "      <td>/nMKdUUepR0i5zn0y1T4CsSB5chy.jpg</td>\n",
                            "      <td>...</td>\n",
                            "      <td>The Dark Knight</td>\n",
                            "      <td>Batman raises the stakes in his war on crime. ...</td>\n",
                            "      <td>130.643</td>\n",
                            "      <td>/qJ2tW6WMUDux911r6m7haRef0WH.jpg</td>\n",
                            "      <td>Welcome to a world without rules.</td>\n",
                            "      <td>Drama, Action, Crime, Thriller</td>\n",
                            "      <td>DC Comics, Legendary Pictures, Syncopy, Isobel...</td>\n",
                            "      <td>United Kingdom, United States of America</td>\n",
                            "      <td>English, Mandarin</td>\n",
                            "      <td>joker, sadism, chaos, secret identity, crime f...</td>\n",
                            "    </tr>\n",
                            "    <tr>\n",
                            "      <th>3</th>\n",
                            "      <td>19995</td>\n",
                            "      <td>Avatar</td>\n",
                            "      <td>7.573</td>\n",
                            "      <td>29815</td>\n",
                            "      <td>Released</td>\n",
                            "      <td>2009-12-15</td>\n",
                            "      <td>2923706026</td>\n",
                            "      <td>162</td>\n",
                            "      <td>False</td>\n",
                            "      <td>/vL5LR6WdxWPjLPFRLe133jXWsh5.jpg</td>\n",
                            "      <td>...</td>\n",
                            "      <td>Avatar</td>\n",
                            "      <td>In the 22nd century, a paraplegic Marine is di...</td>\n",
                            "      <td>79.932</td>\n",
                            "      <td>/kyeqWdyUXW608qlYkRqosgbbJyK.jpg</td>\n",
                            "      <td>Enter the world of Pandora.</td>\n",
                            "      <td>Action, Adventure, Fantasy, Science Fiction</td>\n",
                            "      <td>Dune Entertainment, Lightstorm Entertainment, ...</td>\n",
                            "      <td>United States of America, United Kingdom</td>\n",
                            "      <td>English, Spanish</td>\n",
                            "      <td>future, society, culture clash, space travel, ...</td>\n",
                            "    </tr>\n",
                            "    <tr>\n",
                            "      <th>4</th>\n",
                            "      <td>24428</td>\n",
                            "      <td>The Avengers</td>\n",
                            "      <td>7.710</td>\n",
                            "      <td>29166</td>\n",
                            "      <td>Released</td>\n",
                            "      <td>2012-04-25</td>\n",
                            "      <td>1518815515</td>\n",
                            "      <td>143</td>\n",
                            "      <td>False</td>\n",
                            "      <td>/9BBTo63ANSmhC4e6r62OJFuK2GL.jpg</td>\n",
                            "      <td>...</td>\n",
                            "      <td>The Avengers</td>\n",
                            "      <td>When an unexpected enemy emerges and threatens...</td>\n",
                            "      <td>98.082</td>\n",
                            "      <td>/RYMX2wcKCBAr24UyPD7xwmjaTn.jpg</td>\n",
                            "      <td>Some assembly required.</td>\n",
                            "      <td>Science Fiction, Action, Adventure</td>\n",
                            "      <td>Marvel Studios</td>\n",
                            "      <td>United States of America</td>\n",
                            "      <td>English, Hindi, Russian</td>\n",
                            "      <td>new york city, superhero, shield, based on com...</td>\n",
                            "    </tr>\n",
                            "  </tbody>\n",
                            "</table>\n",
                            "<p>5 rows × 24 columns</p>\n",
                            "</div>"
                        ],
                        "text/plain": [
                            "       id            title  vote_average  vote_count    status release_date  \\\n",
                            "0   27205        Inception         8.364       34495  Released   2010-07-15   \n",
                            "1  157336     Interstellar         8.417       32571  Released   2014-11-05   \n",
                            "2     155  The Dark Knight         8.512       30619  Released   2008-07-16   \n",
                            "3   19995           Avatar         7.573       29815  Released   2009-12-15   \n",
                            "4   24428     The Avengers         7.710       29166  Released   2012-04-25   \n",
                            "\n",
                            "      revenue  runtime  adult                     backdrop_path  ...  \\\n",
                            "0   825532764      148  False  /8ZTVqvKDQ8emSGUEMjsS4yHAwrp.jpg  ...   \n",
                            "1   701729206      169  False  /pbrkL804c8yAv3zBZR4QPEafpAR.jpg  ...   \n",
                            "2  1004558444      152  False  /nMKdUUepR0i5zn0y1T4CsSB5chy.jpg  ...   \n",
                            "3  2923706026      162  False  /vL5LR6WdxWPjLPFRLe133jXWsh5.jpg  ...   \n",
                            "4  1518815515      143  False  /9BBTo63ANSmhC4e6r62OJFuK2GL.jpg  ...   \n",
                            "\n",
                            "    original_title                                           overview  \\\n",
                            "0        Inception  Cobb, a skilled thief who commits corporate es...   \n",
                            "1     Interstellar  The adventures of a group of explorers who mak...   \n",
                            "2  The Dark Knight  Batman raises the stakes in his war on crime. ...   \n",
                            "3           Avatar  In the 22nd century, a paraplegic Marine is di...   \n",
                            "4     The Avengers  When an unexpected enemy emerges and threatens...   \n",
                            "\n",
                            "  popularity                       poster_path  \\\n",
                            "0     83.952  /oYuLEt3zVCKq57qu2F8dT7NIa6f.jpg   \n",
                            "1    140.241  /gEU2QniE6E77NI6lCU6MxlNBvIx.jpg   \n",
                            "2    130.643  /qJ2tW6WMUDux911r6m7haRef0WH.jpg   \n",
                            "3     79.932  /kyeqWdyUXW608qlYkRqosgbbJyK.jpg   \n",
                            "4     98.082   /RYMX2wcKCBAr24UyPD7xwmjaTn.jpg   \n",
                            "\n",
                            "                                             tagline  \\\n",
                            "0               Your mind is the scene of the crime.   \n",
                            "1  Mankind was born on Earth. It was never meant ...   \n",
                            "2                  Welcome to a world without rules.   \n",
                            "3                        Enter the world of Pandora.   \n",
                            "4                            Some assembly required.   \n",
                            "\n",
                            "                                        genres  \\\n",
                            "0           Action, Science Fiction, Adventure   \n",
                            "1            Adventure, Drama, Science Fiction   \n",
                            "2               Drama, Action, Crime, Thriller   \n",
                            "3  Action, Adventure, Fantasy, Science Fiction   \n",
                            "4           Science Fiction, Action, Adventure   \n",
                            "\n",
                            "                                production_companies  \\\n",
                            "0  Legendary Pictures, Syncopy, Warner Bros. Pict...   \n",
                            "1  Legendary Pictures, Syncopy, Lynda Obst Produc...   \n",
                            "2  DC Comics, Legendary Pictures, Syncopy, Isobel...   \n",
                            "3  Dune Entertainment, Lightstorm Entertainment, ...   \n",
                            "4                                     Marvel Studios   \n",
                            "\n",
                            "                       production_countries  \\\n",
                            "0  United Kingdom, United States of America   \n",
                            "1  United Kingdom, United States of America   \n",
                            "2  United Kingdom, United States of America   \n",
                            "3  United States of America, United Kingdom   \n",
                            "4                  United States of America   \n",
                            "\n",
                            "                     spoken_languages  \\\n",
                            "0  English, French, Japanese, Swahili   \n",
                            "1                             English   \n",
                            "2                   English, Mandarin   \n",
                            "3                    English, Spanish   \n",
                            "4             English, Hindi, Russian   \n",
                            "\n",
                            "                                            keywords  \n",
                            "0  rescue, mission, dream, airplane, paris, franc...  \n",
                            "1  rescue, future, spacecraft, race against time,...  \n",
                            "2  joker, sadism, chaos, secret identity, crime f...  \n",
                            "3  future, society, culture clash, space travel, ...  \n",
                            "4  new york city, superhero, shield, based on com...  \n",
                            "\n",
                            "[5 rows x 24 columns]"
                        ]
                    },
                    "execution_count": 38,
                    "metadata": {},
                    "output_type": "execute_result"
                }
            ],
            "source": [
                "df = pd.read_csv('../data/TMDB_movie_dataset_v11.csv', on_bad_lines='skip', engine='python')\n",
                "df.head()"
            ]
        },
        {
            "cell_type": "code",
            "execution_count": null,
            "metadata": {},
            "outputs": [],
            "source": [
                "df.columns"
            ]
        },
        {
            "cell_type": "code",
            "execution_count": null,
            "metadata": {},
            "outputs": [],
            "source": [
                "df_poster = df[[\"title\", \"poster_path\"]]\n",
                "\n",
                "df_poster.head()"
            ]
        },
        {
            "cell_type": "code",
            "execution_count": null,
            "metadata": {},
            "outputs": [],
            "source": [
                "df = df[df['status'] == 'Released']"
            ]
        },
        {
            "cell_type": "code",
            "execution_count": null,
            "metadata": {},
            "outputs": [],
            "source": [
                "df = df.drop([\"id\",\"poster_path\", \"backdrop_path\", \"status\", \"homepage\", \"imdb_id\", \"original_title\"], axis=1)\n",
                "\n",
                "df.head()"
            ]
        },
        {
            "cell_type": "code",
            "execution_count": null,
            "metadata": {},
            "outputs": [],
            "source": [
                "df.shape"
            ]
        },
        {
            "cell_type": "code",
            "execution_count": null,
            "metadata": {},
            "outputs": [],
            "source": [
                "df.isnull().sum()"
            ]
        },
        {
            "cell_type": "code",
            "execution_count": null,
            "metadata": {},
            "outputs": [],
            "source": [
                "df = df.dropna(subset=[\"keywords\"])"
            ]
        },
        {
            "cell_type": "code",
            "execution_count": null,
            "metadata": {},
            "outputs": [],
            "source": [
                "df.shape"
            ]
        },
        {
            "cell_type": "code",
            "execution_count": null,
            "metadata": {},
            "outputs": [],
            "source": [
                "df.isnull().sum()"
            ]
        },
        {
            "cell_type": "code",
            "execution_count": null,
            "metadata": {},
            "outputs": [],
            "source": [
                "df = df.dropna(subset=[\"production_companies\"])"
            ]
        },
        {
            "cell_type": "code",
            "execution_count": null,
            "metadata": {},
            "outputs": [],
            "source": [
                "df.shape"
            ]
        },
        {
            "cell_type": "code",
            "execution_count": null,
            "metadata": {},
            "outputs": [],
            "source": [
                "df.isnull().sum()"
            ]
        },
        {
            "cell_type": "code",
            "execution_count": null,
            "metadata": {},
            "outputs": [],
            "source": [
                "df = df.dropna(subset=[\"genres\"])"
            ]
        },
        {
            "cell_type": "code",
            "execution_count": null,
            "metadata": {},
            "outputs": [],
            "source": [
                "df.shape"
            ]
        },
        {
            "cell_type": "code",
            "execution_count": null,
            "metadata": {},
            "outputs": [],
            "source": [
                "df.isnull().sum()"
            ]
        },
        {
            "cell_type": "code",
            "execution_count": null,
            "metadata": {},
            "outputs": [],
            "source": [
                "df = df.dropna(subset=[\"release_date\"])"
            ]
        },
        {
            "cell_type": "code",
            "execution_count": null,
            "metadata": {},
            "outputs": [],
            "source": [
                "df.shape"
            ]
        },
        {
            "cell_type": "code",
            "execution_count": null,
            "metadata": {},
            "outputs": [],
            "source": [
                "df.isnull().sum()"
            ]
        },
        {
            "cell_type": "code",
            "execution_count": null,
            "metadata": {},
            "outputs": [],
            "source": [
                "data_total = pd.read_csv('../data/dataset_total.csv')\n",
                "data_total.shape"
            ]
        },
        {
            "cell_type": "code",
            "execution_count": null,
            "metadata": {},
            "outputs": [],
            "source": [
                "data_total.isnull().sum()"
            ]
        },
        {
            "cell_type": "code",
            "execution_count": null,
            "metadata": {},
            "outputs": [],
            "source": [
                "#unir las tres columnas de budget en una sola\n",
                "data_total['budget_final'] = (data_total['budget_imdb']).combine_first(data_total['budget_tmdb'])"
            ]
        },
        {
            "cell_type": "code",
            "execution_count": null,
            "metadata": {},
            "outputs": [],
            "source": [
                "data_total['revenue_final'] = (data_total['revenue_imdb']).combine_first(data_total['revenue_tmdb'])"
            ]
        },
        {
            "cell_type": "code",
            "execution_count": null,
            "metadata": {},
            "outputs": [],
            "source": [
                "data_total['runtime_final'] = (data_total['runtime_imdb']).combine_first(data_total['runtime_tmdb'])"
            ]
        },
        {
            "cell_type": "code",
            "execution_count": null,
            "metadata": {},
            "outputs": [],
            "source": [
                "data_total.isnull().sum()"
            ]
        },
        {
            "cell_type": "code",
            "execution_count": null,
            "metadata": {},
            "outputs": [],
            "source": [
                "data_total.drop(columns=['budget_tmdb', 'revenue_tmdb', 'runtime_tmdb', 'budget_imdb', 'revenue_imdb', 'runtime_imdb', 'budget', 'runtime', 'revenue'], inplace=True)"
            ]
        },
        {
            "cell_type": "code",
            "execution_count": null,
            "metadata": {},
            "outputs": [],
            "source": [
                "columnas_ordenadas = [\n",
                "    'title', 'vote_average', 'vote_count', 'release_date', 'adult', 'original_language', 'overview',\n",
                "    'popularity', 'tagline', 'genres', 'production_companies',\n",
                "    'production_countries', 'spoken_languages', 'keywords', 'director',\n",
                "    'top_actors', 'runtime_final', 'budget_final', 'revenue_final'\n",
                "]\n",
                "data_total = data_total[columnas_ordenadas]"
            ]
        },
        {
            "cell_type": "code",
            "execution_count": null,
            "metadata": {},
            "outputs": [],
            "source": [
                "data_total.isnull().sum()"
            ]
        },
        {
            "cell_type": "code",
            "execution_count": null,
            "metadata": {},
            "outputs": [],
            "source": [
                "data_total = data_total[data_total['runtime_final'] != 0]"
            ]
        },
        {
            "cell_type": "code",
            "execution_count": null,
            "metadata": {},
            "outputs": [],
            "source": [
                "data_total.dropna(subset=['top_actors', 'director', 'runtime_final', 'budget_final'], inplace=True)"
            ]
        },
        {
            "cell_type": "code",
            "execution_count": null,
            "metadata": {},
            "outputs": [],
            "source": [
                "data_total.drop(columns=['revenue_final'], inplace=True)"
            ]
        },
        {
            "cell_type": "code",
            "execution_count": null,
            "metadata": {},
            "outputs": [],
            "source": [
                "data_total.shape"
            ]
        },
        {
            "cell_type": "code",
            "execution_count": null,
            "metadata": {},
            "outputs": [],
            "source": [
                "data_total.isnull().sum()"
            ]
        },
        {
            "cell_type": "code",
            "execution_count": null,
            "metadata": {},
            "outputs": [],
            "source": [
                "data_stream = pd.read_csv('../data/data_streamlit.csv')\n",
                "data_stream"
            ]
        },
        {
            "cell_type": "code",
            "execution_count": null,
            "metadata": {},
            "outputs": [],
            "source": [
                "data_total = pd.read_csv('../data/dataset_total.csv')\n",
                "data_total"
            ]
        },
        {
            "cell_type": "code",
            "execution_count": null,
            "metadata": {},
            "outputs": [],
            "source": [
                "import spacy\n",
                "from tqdm import tqdm\n",
                "\n",
                "# Cargar modelo de spaCy sin parser ni NER\n",
                "nlp = spacy.load(\"en_core_web_sm\", disable=[\"parser\", \"ner\"])\n",
                "tqdm.pandas()\n",
                "# 1. Rellenar nulos y limpiar tagline y keywords\n",
                "for col in ['keywords', 'tagline', 'title', 'overview', 'top_actors', 'director', 'production_companies']:\n",
                "    data_total[col] = data_total[col].fillna('').str.strip().str.lower()\n",
                "# 2. Función general para limpiar texto usando POS y lematización\n",
                "def clean_text_spacy(text, pos_tags):\n",
                "    doc = nlp(text)\n",
                "    return \" \".join(\n",
                "        token.lemma_.lower()  # Usamos la raíz léxica (lemma) en lugar del token original\n",
                "        for token in doc\n",
                "        if token.pos_ in pos_tags and token.is_alpha and not token.is_stop\n",
                "    )\n",
                "# 3. Limpiar overview: solo NOUN, VERB, PROPN\n",
                "data_total['overview'] = data_total['overview'].fillna('')\n",
                "data_total['overview_clean'] = data_total['overview'].progress_apply(lambda x: clean_text_spacy(x, ['NOUN', 'VERB', 'PROPN']))\n",
                "# 4. Limpiar title: NOUN, VERB, PROPN, ADJ\n",
                "data_total['title'] = data_total['title'].fillna('')\n",
                "data_total['title_clean'] = data_total['title'].progress_apply(lambda x: clean_text_spacy(x, ['NOUN', 'VERB', 'PROPN', 'ADJ']))\n",
                "data_total['tagline'] = data_total['tagline'].fillna('')\n",
                "data_total['tagline_clean'] = data_total['tagline'].progress_apply(lambda x: clean_text_spacy(x, ['NOUN', 'VERB', 'PROPN', 'ADJ']))\n",
                "\n",
                "\n",
                "# 6. Eliminar duplicados de palabras por fila\n",
                "\n",
                "def remove_duplicates(text):\n",
                "    return \" \".join(dict.fromkeys(text.split()))\n",
                "for col in ['title_clean', 'overview_clean', 'tagline_clean', 'top_actors', 'director', 'production_companies']:\n",
                "    data_total[col] = data_total[col].progress_apply(remove_duplicates)\n",
                "\n",
                "\n",
                "data_total.head()"
            ]
        },
        {
            "cell_type": "code",
            "execution_count": null,
            "metadata": {},
            "outputs": [],
            "source": [
                "data_total.to_csv('../data/dataset_total.csv', index=False)\n"
            ]
        },
        {
            "cell_type": "code",
            "execution_count": 3,
            "metadata": {},
            "outputs": [
                {
                    "name": "stderr",
                    "output_type": "stream",
                    "text": [
                        "C:\\Users\\Luna\\AppData\\Local\\Temp\\ipykernel_9592\\3674118326.py:1: DtypeWarning: Columns (17) have mixed types. Specify dtype option on import or set low_memory=False.\n",
                        "  data = pd.read_csv('../data/dataset_total.csv')\n"
                    ]
                },
                {
                    "data": {
                        "text/html": [
                            "<div>\n",
                            "<style scoped>\n",
                            "    .dataframe tbody tr th:only-of-type {\n",
                            "        vertical-align: middle;\n",
                            "    }\n",
                            "\n",
                            "    .dataframe tbody tr th {\n",
                            "        vertical-align: top;\n",
                            "    }\n",
                            "\n",
                            "    .dataframe thead th {\n",
                            "        text-align: right;\n",
                            "    }\n",
                            "</style>\n",
                            "<table border=\"1\" class=\"dataframe\">\n",
                            "  <thead>\n",
                            "    <tr style=\"text-align: right;\">\n",
                            "      <th></th>\n",
                            "      <th>title</th>\n",
                            "      <th>vote_average</th>\n",
                            "      <th>vote_count</th>\n",
                            "      <th>release_date</th>\n",
                            "      <th>adult</th>\n",
                            "      <th>original_language</th>\n",
                            "      <th>overview</th>\n",
                            "      <th>popularity</th>\n",
                            "      <th>tagline</th>\n",
                            "      <th>genres</th>\n",
                            "      <th>...</th>\n",
                            "      <th>production_countries</th>\n",
                            "      <th>spoken_languages</th>\n",
                            "      <th>keywords</th>\n",
                            "      <th>director</th>\n",
                            "      <th>top_actors</th>\n",
                            "      <th>runtime_final</th>\n",
                            "      <th>budget_final</th>\n",
                            "      <th>overview_clean</th>\n",
                            "      <th>title_clean</th>\n",
                            "      <th>tagline_clean</th>\n",
                            "    </tr>\n",
                            "  </thead>\n",
                            "  <tbody>\n",
                            "    <tr>\n",
                            "      <th>0</th>\n",
                            "      <td>inception</td>\n",
                            "      <td>8.364</td>\n",
                            "      <td>34495</td>\n",
                            "      <td>2010-07-15</td>\n",
                            "      <td>False</td>\n",
                            "      <td>en</td>\n",
                            "      <td>cobb, a skilled thief who commits corporate es...</td>\n",
                            "      <td>83.952</td>\n",
                            "      <td>your mind is the scene of the crime.</td>\n",
                            "      <td>Action, Science Fiction, Adventure</td>\n",
                            "      <td>...</td>\n",
                            "      <td>United Kingdom, United States of America</td>\n",
                            "      <td>English, French, Japanese, Swahili</td>\n",
                            "      <td>rescue, mission, dream, airplane, paris, franc...</td>\n",
                            "      <td>christopher nolan</td>\n",
                            "      <td>leonardo dicaprio, joseph gordon-levitt, ken w...</td>\n",
                            "      <td>148.0</td>\n",
                            "      <td>160000000.0</td>\n",
                            "      <td>cobb thief commit espionage infiltrate subcons...</td>\n",
                            "      <td>inception</td>\n",
                            "      <td>mind scene crime</td>\n",
                            "    </tr>\n",
                            "    <tr>\n",
                            "      <th>1</th>\n",
                            "      <td>interstellar</td>\n",
                            "      <td>8.417</td>\n",
                            "      <td>32571</td>\n",
                            "      <td>2014-11-05</td>\n",
                            "      <td>False</td>\n",
                            "      <td>en</td>\n",
                            "      <td>the adventures of a group of explorers who mak...</td>\n",
                            "      <td>140.241</td>\n",
                            "      <td>mankind was born on earth. it was never meant ...</td>\n",
                            "      <td>Adventure, Drama, Science Fiction</td>\n",
                            "      <td>...</td>\n",
                            "      <td>United Kingdom, United States of America</td>\n",
                            "      <td>English</td>\n",
                            "      <td>rescue, future, spacecraft, race against time,...</td>\n",
                            "      <td>christopher nolan</td>\n",
                            "      <td>matthew mcconaughey, anne hathaway, michael ca...</td>\n",
                            "      <td>169.0</td>\n",
                            "      <td>165000000.0</td>\n",
                            "      <td>adventure group explorer use discover wormhole...</td>\n",
                            "      <td>interstellar</td>\n",
                            "      <td>mankind bear earth mean die</td>\n",
                            "    </tr>\n",
                            "    <tr>\n",
                            "      <th>2</th>\n",
                            "      <td>the dark knight</td>\n",
                            "      <td>8.512</td>\n",
                            "      <td>30619</td>\n",
                            "      <td>2008-07-16</td>\n",
                            "      <td>False</td>\n",
                            "      <td>en</td>\n",
                            "      <td>batman raises the stakes in his war on crime. ...</td>\n",
                            "      <td>130.643</td>\n",
                            "      <td>welcome to a world without rules.</td>\n",
                            "      <td>Drama, Action, Crime, Thriller</td>\n",
                            "      <td>...</td>\n",
                            "      <td>United Kingdom, United States of America</td>\n",
                            "      <td>English, Mandarin</td>\n",
                            "      <td>joker, sadism, chaos, secret identity, crime f...</td>\n",
                            "      <td>christopher nolan</td>\n",
                            "      <td>christian bale, heath ledger, aaron eckhart, m...</td>\n",
                            "      <td>152.0</td>\n",
                            "      <td>185000000.0</td>\n",
                            "      <td>batman raise stake war crime help lt jim gordo...</td>\n",
                            "      <td>dark knight</td>\n",
                            "      <td>welcome world rule</td>\n",
                            "    </tr>\n",
                            "    <tr>\n",
                            "      <th>3</th>\n",
                            "      <td>avatar</td>\n",
                            "      <td>7.573</td>\n",
                            "      <td>29815</td>\n",
                            "      <td>2009-12-15</td>\n",
                            "      <td>False</td>\n",
                            "      <td>en</td>\n",
                            "      <td>in the 22nd century, a paraplegic marine is di...</td>\n",
                            "      <td>79.932</td>\n",
                            "      <td>enter the world of pandora.</td>\n",
                            "      <td>Action, Adventure, Fantasy, Science Fiction</td>\n",
                            "      <td>...</td>\n",
                            "      <td>United States of America, United Kingdom</td>\n",
                            "      <td>English, Spanish</td>\n",
                            "      <td>future, society, culture clash, space travel, ...</td>\n",
                            "      <td>james cameron</td>\n",
                            "      <td>sam worthington, zoe saldaña, sigourney weaver...</td>\n",
                            "      <td>162.0</td>\n",
                            "      <td>237000000.0</td>\n",
                            "      <td>century marine dispatch moon pandora mission t...</td>\n",
                            "      <td>avatar</td>\n",
                            "      <td>enter world pandora</td>\n",
                            "    </tr>\n",
                            "    <tr>\n",
                            "      <th>4</th>\n",
                            "      <td>the avengers</td>\n",
                            "      <td>7.710</td>\n",
                            "      <td>29166</td>\n",
                            "      <td>2012-04-25</td>\n",
                            "      <td>False</td>\n",
                            "      <td>en</td>\n",
                            "      <td>when an unexpected enemy emerges and threatens...</td>\n",
                            "      <td>98.082</td>\n",
                            "      <td>some assembly required.</td>\n",
                            "      <td>Science Fiction, Action, Adventure</td>\n",
                            "      <td>...</td>\n",
                            "      <td>United States of America</td>\n",
                            "      <td>English, Hindi, Russian</td>\n",
                            "      <td>new york city, superhero, shield, based on com...</td>\n",
                            "      <td>joss whedon</td>\n",
                            "      <td>robert downey jr., chris evans, mark ruffalo, ...</td>\n",
                            "      <td>143.0</td>\n",
                            "      <td>220000000.0</td>\n",
                            "      <td>enemy emerge threaten safety security nick fur...</td>\n",
                            "      <td>avenger</td>\n",
                            "      <td>assembly require</td>\n",
                            "    </tr>\n",
                            "  </tbody>\n",
                            "</table>\n",
                            "<p>5 rows × 21 columns</p>\n",
                            "</div>"
                        ],
                        "text/plain": [
                            "             title  vote_average  vote_count release_date  adult  \\\n",
                            "0        inception         8.364       34495   2010-07-15  False   \n",
                            "1     interstellar         8.417       32571   2014-11-05  False   \n",
                            "2  the dark knight         8.512       30619   2008-07-16  False   \n",
                            "3           avatar         7.573       29815   2009-12-15  False   \n",
                            "4     the avengers         7.710       29166   2012-04-25  False   \n",
                            "\n",
                            "  original_language                                           overview  \\\n",
                            "0                en  cobb, a skilled thief who commits corporate es...   \n",
                            "1                en  the adventures of a group of explorers who mak...   \n",
                            "2                en  batman raises the stakes in his war on crime. ...   \n",
                            "3                en  in the 22nd century, a paraplegic marine is di...   \n",
                            "4                en  when an unexpected enemy emerges and threatens...   \n",
                            "\n",
                            "   popularity                                            tagline  \\\n",
                            "0      83.952               your mind is the scene of the crime.   \n",
                            "1     140.241  mankind was born on earth. it was never meant ...   \n",
                            "2     130.643                  welcome to a world without rules.   \n",
                            "3      79.932                        enter the world of pandora.   \n",
                            "4      98.082                            some assembly required.   \n",
                            "\n",
                            "                                        genres  ...  \\\n",
                            "0           Action, Science Fiction, Adventure  ...   \n",
                            "1            Adventure, Drama, Science Fiction  ...   \n",
                            "2               Drama, Action, Crime, Thriller  ...   \n",
                            "3  Action, Adventure, Fantasy, Science Fiction  ...   \n",
                            "4           Science Fiction, Action, Adventure  ...   \n",
                            "\n",
                            "                       production_countries  \\\n",
                            "0  United Kingdom, United States of America   \n",
                            "1  United Kingdom, United States of America   \n",
                            "2  United Kingdom, United States of America   \n",
                            "3  United States of America, United Kingdom   \n",
                            "4                  United States of America   \n",
                            "\n",
                            "                     spoken_languages  \\\n",
                            "0  English, French, Japanese, Swahili   \n",
                            "1                             English   \n",
                            "2                   English, Mandarin   \n",
                            "3                    English, Spanish   \n",
                            "4             English, Hindi, Russian   \n",
                            "\n",
                            "                                            keywords           director  \\\n",
                            "0  rescue, mission, dream, airplane, paris, franc...  christopher nolan   \n",
                            "1  rescue, future, spacecraft, race against time,...  christopher nolan   \n",
                            "2  joker, sadism, chaos, secret identity, crime f...  christopher nolan   \n",
                            "3  future, society, culture clash, space travel, ...      james cameron   \n",
                            "4  new york city, superhero, shield, based on com...        joss whedon   \n",
                            "\n",
                            "                                          top_actors runtime_final  \\\n",
                            "0  leonardo dicaprio, joseph gordon-levitt, ken w...         148.0   \n",
                            "1  matthew mcconaughey, anne hathaway, michael ca...         169.0   \n",
                            "2  christian bale, heath ledger, aaron eckhart, m...         152.0   \n",
                            "3  sam worthington, zoe saldaña, sigourney weaver...         162.0   \n",
                            "4  robert downey jr., chris evans, mark ruffalo, ...         143.0   \n",
                            "\n",
                            "   budget_final                                     overview_clean  \\\n",
                            "0   160000000.0  cobb thief commit espionage infiltrate subcons...   \n",
                            "1   165000000.0  adventure group explorer use discover wormhole...   \n",
                            "2   185000000.0  batman raise stake war crime help lt jim gordo...   \n",
                            "3   237000000.0  century marine dispatch moon pandora mission t...   \n",
                            "4   220000000.0  enemy emerge threaten safety security nick fur...   \n",
                            "\n",
                            "    title_clean                tagline_clean  \n",
                            "0     inception             mind scene crime  \n",
                            "1  interstellar  mankind bear earth mean die  \n",
                            "2   dark knight           welcome world rule  \n",
                            "3        avatar          enter world pandora  \n",
                            "4       avenger             assembly require  \n",
                            "\n",
                            "[5 rows x 21 columns]"
                        ]
                    },
                    "execution_count": 3,
                    "metadata": {},
                    "output_type": "execute_result"
                }
            ],
            "source": [
                "data = pd.read_csv('../data/dataset_total.csv')\n",
                "data.head()"
            ]
        },
        {
            "cell_type": "code",
            "execution_count": null,
            "metadata": {},
            "outputs": [],
            "source": [
                "from sklearn.feature_extraction.text import TfidfVectorizer\n",
                "import joblib\n",
                "from scipy import sparse\n",
                "\n",
                "columnas_vectorizadas = ['production_companies', 'keywords', 'director', 'top_actors', 'production_companies', 'overview_clean', 'title_clean', 'tagline_clean']\n",
                "\n",
                "for col in columnas_vectorizadas:\n",
                "    print(f\"Vectorizando columna: {col}\")\n",
                "\n",
                "    # 1. Preparar textos completos y no vacíos\n",
                "    texts_all = data[col].fillna('').astype(str)\n",
                "    texts_nonempty = texts_all[texts_all.str.strip() != '']\n",
                "\n",
                "    if texts_nonempty.empty:\n",
                "        print(f\"  ❌ Todos los textos en {col} están vacíos. Se omite.\")\n",
                "        continue\n",
                "\n",
                "    # 2. Fit solo con no vacíos\n",
                "    vectorizer = TfidfVectorizer(max_features=10000, lowercase=True)\n",
                "    vectorizer.fit(texts_nonempty)\n",
                "\n",
                "    # 3. Transformar todos (se conserva el índice)\n",
                "    vect = vectorizer.transform(texts_all)\n",
                "   \n",
                "    sparse.save_npz(f\"../data/{col}.npz\", vect)\n",
                "    joblib.dump(vectorizer, f\"../models/{col}_vect.pkl\")\n",
                "\n"
            ]
        },
        {
            "cell_type": "code",
            "execution_count": null,
            "metadata": {},
            "outputs": [],
            "source": [
                "data.drop(['title', 'overview', 'tagline'], axis=1, inplace=True)"
            ]
        },
        {
            "cell_type": "code",
            "execution_count": null,
            "metadata": {},
            "outputs": [],
            "source": [
                "data.shape"
            ]
        },
        {
            "cell_type": "code",
            "execution_count": null,
            "metadata": {},
            "outputs": [],
            "source": [
                "from sklearn.preprocessing import MultiLabelBinarizer\n",
                "import joblib\n",
                "from scipy import sparse\n",
                "import pandas as pd\n",
                "# 1. Función robusta\n",
                "def split_and_clean(text):\n",
                "    if isinstance(text, list):\n",
                "        return text\n",
                "    if pd.isna(text) or str(text).strip() == \"\":\n",
                "        return []\n",
                "    return [item.strip() for item in str(text).split(\",\") if item.strip()]\n",
                "# 2. Procesar columnas deseadas\n",
                "cols_to_encode = ['genres', 'production_countries', 'spoken_languages']\n",
                "for col in cols_to_encode:\n",
                "    data[col] = data[col].apply(split_and_clean)\n",
                "# 3. Binarizar cada columna\n",
                "for col in cols_to_encode:\n",
                "    print(f\"Procesando columna: {col}\")\n",
                "    mlb = MultiLabelBinarizer(sparse_output=True)\n",
                "    encoded = mlb.fit_transform(data[col])\n",
                "    # Guardar binarizador\n",
                "    joblib.dump(mlb, f\"../models/{col}_mlb.pkl\")\n",
                "    sparse.save_npz(f\"../data/{col}.npz\", encoded)\n",
                "    # Convertir a DataFrame\n",
                "    encoded_df = pd.DataFrame.sparse.from_spmatrix(\n",
                "        encoded,\n",
                "        index=data.index,\n",
                "        columns=[f\"{col}_{cls}\" for cls in mlb.classes_]\n",
                "    )\n",
                "    # Concatenar\n",
                "    data = pd.concat([data, encoded_df], axis=1)"
            ]
        },
        {
            "cell_type": "code",
            "execution_count": null,
            "metadata": {},
            "outputs": [],
            "source": [
                "data.shape"
            ]
        },
        {
            "cell_type": "code",
            "execution_count": null,
            "metadata": {},
            "outputs": [],
            "source": [
                "from sklearn.preprocessing import OneHotEncoder\n",
                "\n",
                "ohe = OneHotEncoder(sparse_output=True, handle_unknown=\"ignore\")\n",
                "lang_encoded = ohe.fit_transform(data[['original_language']])\n",
                "joblib.dump(ohe, \"../models/original_language_ohe.pkl\")\n",
                "sparse.save_npz(f\"../data/orig_lang.npz\", lang_encoded)\n",
                "lang_encoded_df = pd.DataFrame.sparse.from_spmatrix(\n",
                "    lang_encoded, index=data.index, columns=[f\"lang_{cat}\" for cat in ohe.categories_[0]]\n",
                ")\n",
                "data = pd.concat([data, lang_encoded_df], axis=1)"
            ]
        },
        {
            "cell_type": "code",
            "execution_count": null,
            "metadata": {},
            "outputs": [],
            "source": [
                "data.shape"
            ]
        },
        {
            "cell_type": "code",
            "execution_count": null,
            "metadata": {},
            "outputs": [],
            "source": [
                "data['adult'] = data['adult'].astype(int)  # True → 1, False → 0"
            ]
        },
        {
            "cell_type": "code",
            "execution_count": null,
            "metadata": {},
            "outputs": [],
            "source": [
                "data['release_date'] = pd.to_datetime(data['release_date'], errors='coerce')\n",
                "data['release_year'] = data['release_date'].dt.year.fillna(0).astype(int)\n",
                "data.drop(columns=['release_date'], inplace=True) "
            ]
        },
        {
            "cell_type": "code",
            "execution_count": null,
            "metadata": {},
            "outputs": [],
            "source": [
                "data = pd.read_csv('../data/data_streamlit.csv')"
            ]
        },
        {
            "cell_type": "code",
            "execution_count": null,
            "metadata": {},
            "outputs": [],
            "source": [
                "def limpiar_budget(budget):\n",
                "    if pd.isna(budget):\n",
                "        return np.nan\n",
                "    # Eliminar todo lo que no sea dígito\n",
                "    limpio = ''.join(c for c in str(budget) if c.isdigit())\n",
                "    return float(limpio) if limpio else np.nan\n",
                "\n",
                "# Aplica la limpieza\n",
                "data['budget_final'] = data['budget_final'].apply(limpiar_budget) / 1_000_000  # En millones"
            ]
        },
        {
            "cell_type": "code",
            "execution_count": null,
            "metadata": {},
            "outputs": [],
            "source": [
                "data.to_csv('../data/data_streamlit.csv', index=False)"
            ]
        },
        {
            "cell_type": "code",
            "execution_count": null,
            "metadata": {},
            "outputs": [],
            "source": [
                "data.drop(['genres', 'spoken_languages', 'production_countries', 'original_language'], axis=1, inplace=True)"
            ]
        },
        {
            "cell_type": "code",
            "execution_count": null,
            "metadata": {},
            "outputs": [],
            "source": [
                "data.head()"
            ]
        },
        {
            "cell_type": "code",
            "execution_count": null,
            "metadata": {},
            "outputs": [],
            "source": [
                "from sklearn.preprocessing import MinMaxScaler\n",
                "\n",
                "# Columnas numéricas\n",
                "numeric_cols = ['vote_average', 'vote_count', 'adult', 'popularity', 'runtime_final', 'budget_final', 'release_year']\n",
                "\n",
                "# Función de limpieza para valores monetarios o con texto\n",
                "def clean_numeric(value):\n",
                "    if pd.isna(value):\n",
                "        return 0\n",
                "    if isinstance(value, str):\n",
                "        # Eliminar cualquier carácter no numérico o punto decimal\n",
                "        value = ''.join(c for c in value if c.isdigit() or c == '.')\n",
                "        try:\n",
                "            return float(value)\n",
                "        except:\n",
                "            return 0\n",
                "    return value  # Si ya es numérico\n",
                "\n",
                "# Aplicar limpieza a todas las columnas\n",
                "for col in numeric_cols:\n",
                "    data[col] = data[col].apply(clean_numeric)\n",
                "\n",
                "# Rellenar NaNs (por si acaso)\n",
                "data[numeric_cols] = data[numeric_cols].fillna(0)\n",
                "\n",
                "# Escalar\n",
                "scaler = MinMaxScaler()\n",
                "data[numeric_cols] = scaler.fit_transform(data[numeric_cols])\n",
                "\n",
                "# Guardar el escalador\n",
                "joblib.dump(scaler, \"../models/numeric_minmax_scaler.pkl\")\n"
            ]
        },
        {
            "cell_type": "code",
            "execution_count": null,
            "metadata": {},
            "outputs": [],
            "source": [
                "data.to_csv('../data/dataset_escalado.csv', index=False)"
            ]
        },
        {
            "cell_type": "code",
            "execution_count": null,
            "metadata": {},
            "outputs": [],
            "source": [
                "data_esc = pd.read_csv('../data/dataset_escalado.csv')\n",
                "data_esc.head()\n",
                "data_esc.shape\n"
            ]
        },
        {
            "cell_type": "code",
            "execution_count": null,
            "metadata": {},
            "outputs": [],
            "source": [
                "from scipy.sparse import hstack, csr_matrix\n",
                "\n",
                "# Elimina columnas tipo object (como textos, listas, etc.)\n",
                "df_numeric = data_esc.select_dtypes(include=['number', 'Sparse'])\n",
                "\n",
                "# Convierte solo las columnas numéricas a sparse\n",
                "X_num_sparse = csr_matrix(df_numeric.values)"
            ]
        },
        {
            "cell_type": "code",
            "execution_count": null,
            "metadata": {},
            "outputs": [],
            "source": [
                "import pandas as pd\n",
                "from scipy.sparse import csr_matrix\n",
                "# Paso 1: Selecciona las columnas numéricas que quieres usar\n",
                "numeric_cols = ['vote_average', 'vote_count', 'adult', 'popularity', 'runtime_final', 'budget_final', 'release_year']\n",
                "# Paso 2: Extrae esas columnas del DataFrame principal\n",
                "data_esc = data_esc[numeric_cols].copy()\n",
                "# Paso 3: Fuerza a que todo sea numérico (por si hay strings u objetos)\n",
                "data_esc = data_esc.apply(pd.to_numeric, errors='coerce')\n",
                "# Paso 4: Llena valores nulos (por errores o valores faltantes) con 0\n",
                "data_esc = data_esc.fillna(0)\n",
                "# Paso 5: Convierte a float32 para ahorrar RAM y pásalo a matriz dispersa\n",
                "X_num_sparse = csr_matrix(data_esc.astype('float32'))\n",
                "# Ahora X_num_sparse está listo para combinar con otros vectores"
            ]
        },
        {
            "cell_type": "code",
            "execution_count": null,
            "metadata": {},
            "outputs": [],
            "source": [
                "print(X_num_sparse.shape)"
            ]
        },
        {
            "cell_type": "code",
            "execution_count": null,
            "metadata": {},
            "outputs": [],
            "source": [
                "from scipy.sparse import load_npz, save_npz, hstack\n",
                "from scipy.sparse import csr_matrix\n",
                "\n",
                "# Cargar las matrices sparse desde disco\n",
                "title = load_npz('../data/title_clean.npz')\n",
                "tagline = load_npz('../data/tagline_clean.npz')\n",
                "actors = load_npz('../data/top_actors.npz')\n",
                "companies = load_npz('../data/production_companies.npz')\n",
                "overview = load_npz('../data/overview_clean.npz')\n",
                "keywords = load_npz('../data/keywords.npz')\n",
                "director = load_npz('../data/director.npz')\n",
                "genres = load_npz('../data/genres.npz')\n",
                "orig_lang = load_npz('../data/orig_lang.npz')\n",
                "countries = load_npz('../data/production_countries.npz')\n",
                "spoken_lang = load_npz('../data/spoken_languages.npz')\n",
                "\n",
                "# Convertir tus datos numéricos a sparse\n",
                "X_num_sparse = csr_matrix(data_esc)\n",
                "\n",
                "# Combinar todo\n",
                "X_combined = hstack([\n",
                "    title, tagline, actors, companies,\n",
                "    overview, keywords, director, genres, orig_lang, countries, spoken_lang,\n",
                "    X_num_sparse\n",
                "])\n"
            ]
        },
        {
            "cell_type": "code",
            "execution_count": null,
            "metadata": {},
            "outputs": [],
            "source": [
                "print(X_combined.shape)"
            ]
        },
        {
            "cell_type": "code",
            "execution_count": null,
            "metadata": {},
            "outputs": [],
            "source": [
                "save_npz('../data/matrix_combinada.npz', X_combined)"
            ]
        },
        {
            "cell_type": "code",
            "execution_count": null,
            "metadata": {},
            "outputs": [],
            "source": [
                "from sklearn.neighbors import NearestNeighbors\n",
                "import time  # solo para simular retraso, quitar en producción\n",
                "\n",
                "# Supongamos que preparar X_combined es un proceso con loop\n",
                "# Aquí simulo con un loop dummy para mostrar tqdm\n",
                "for _ in tqdm(range(100), desc='Entrenando NearestNeighbors'):\n",
                "    time.sleep(0.01)  # simula trabajo pesado\n",
                "\n",
                "# Aquí ya tienes X_combined preparado, entrenas el modelo normalmente\n",
                "model = NearestNeighbors(n_neighbors=10, metric='cosine')\n",
                "model.fit(X_combined)\n",
                "\n",
                "joblib.dump(model, '../models/knn_model.pkl')"
            ]
        },
        {
            "cell_type": "code",
            "execution_count": null,
            "metadata": {},
            "outputs": [],
            "source": [
                "print(\"Modelo espera:\", model._fit_X.shape[1])"
            ]
        },
        {
            "cell_type": "code",
            "execution_count": null,
            "metadata": {},
            "outputs": [],
            "source": [
                "import random\n",
                "\n",
                "df = pd.read_csv('../data/dataset_escalado.csv')\n",
                "model = joblib.load('../models/knn_model.pkl')\n",
                "X_combined = sparse.load_npz('../data/matrix_combinada.npz')\n",
                "\n",
                "def recomendar_pelicula(titulo, modelo_knn, X, df, n=5):\n",
                "    try:\n",
                "        idx = df[df['title_clean'] == titulo].index[0]\n",
                "    except IndexError:\n",
                "        return f\"❌ Título '{titulo}' no encontrado.\"\n",
                "\n",
                "    distancias, indices = modelo_knn.kneighbors(X[idx], n_neighbors=n+1)\n",
                "    recomendaciones = df.iloc[indices[0][1:]]['title_clean'].values\n",
                "    return recomendaciones\n",
                "\n",
                "# ---------------------------\n",
                "# 8. Probar con títulos aleatorios\n",
                "# ---------------------------\n",
                "titulos_random = df['title_clean'].unique()\n",
                "titulo = random.choice(titulos_random)\n",
                "\n",
                "print(\"🎬 Título seleccionado:\", titulo)\n",
                "recs = recomendar_pelicula(titulo, model, X_combined, df)\n",
                "\n",
                "print(\"\\n🔁 Recomendaciones:\")\n",
                "for r in recs:\n",
                "    print(\"  ✅\", r)"
            ]
        }
    ],
    "metadata": {
        "kernelspec": {
            "display_name": "venv",
            "language": "python",
            "name": "python3"
        },
        "language_info": {
            "codemirror_mode": {
                "name": "ipython",
                "version": 3
            },
            "file_extension": ".py",
            "mimetype": "text/x-python",
            "name": "python",
            "nbconvert_exporter": "python",
            "pygments_lexer": "ipython3",
            "version": "3.11.9"
        },
        "orig_nbformat": 4
    },
    "nbformat": 4,
    "nbformat_minor": 2
}
